{
 "cells": [
  {
   "cell_type": "code",
   "execution_count": 1,
   "metadata": {},
   "outputs": [],
   "source": [
    "from tkinter import * \n",
    "def german_2_english():\n",
    "    user_text = query.get()\n",
    "    dict_german = {'Strg' : 'Ctrl', 'Alt Gr' : 'Alt', 'Einfg' : 'Insert', 'Entf' : 'Del', 'Build auf' : 'Page up', \n",
    "                   'Build ab' : 'Page down', 'Pos 1' : 'Home', 'Ende' : 'End', 'Drucken' : 'Print screen',\n",
    "                   'Rollen' : 'Scroll lock', 'Pause' : 'Pause/Break'}\n",
    "    if user_text in dict_german.keys():\n",
    "        m = dict_german.get(user_text)\n",
    "        my_user_label = Label(my_GUI,background = \"#C7E7D1\", text = m).pack()\n",
    "        \n",
    "def english_2_german():\n",
    "    user_text = query.get()\n",
    "    dict_german = {'Strg' : 'Ctrl', 'Alt Gr' : 'Alt', 'Einfg' : 'Insert', 'Entf' : 'Del', 'Build auf' : 'Page up', \n",
    "                   'Build ab' : 'Page down', 'Pos 1' : 'Home', 'Ende' : 'End', 'Drucken' : 'Print screen',\n",
    "                   'Rollen' : 'Scroll lock', 'Pause' : 'Pause/Break'}\n",
    "    dict_english = dict((y,x) for x,y in dict_german.items())\n",
    "    if user_text in dict_english.keys():\n",
    "        m = dict_english.get(user_text)\n",
    "        my_user_label = Label(my_GUI,background = \"#C7E7D1\", text = m).pack()\n",
    "\n",
    "\n",
    "my_GUI = Tk()\n",
    "query = StringVar()\n",
    "my_GUI.geometry (\"400x300\")\n",
    "my_GUI.config(background = \"#C7E7D1\")\n",
    "my_user_display = Label(my_GUI, text = \"Enter your German word / English word\",background = \"#C7E7D1\", font = (\"Helvetica\", 12), pady= 20).pack()\n",
    "my_GUI.title (\"German to English and English to German Keys\")\n",
    "use_entry = Entry(my_GUI, textvariable = query).pack()\n",
    "my_user_display = Label(my_GUI,background = \"#C7E7D1\", pady= 10).pack()\n",
    "my_option = Button(my_GUI, text = \"Translate to english\",font = (\"Helvetica\", 12),pady = 20, padx = 2, command = german_2_english).pack(side = LEFT )\n",
    "my_option = Button(my_GUI, text = \"Translate to german\",font = (\"Helvetica\", 12),pady = 20, padx = 2, command = english_2_german).pack(side = RIGHT)\n",
    "my_option = Button(my_GUI, text = \"Quit\",font = (\"Helvetica\", 12),pady = 20, padx = 20, command = my_GUI.destroy).pack(side = BOTTOM)\n",
    "my_GUI.mainloop()"
   ]
  }
 ],
 "metadata": {
  "kernelspec": {
   "display_name": "Python 3",
   "language": "python",
   "name": "python3"
  },
  "language_info": {
   "codemirror_mode": {
    "name": "ipython",
    "version": 3
   },
   "file_extension": ".py",
   "mimetype": "text/x-python",
   "name": "python",
   "nbconvert_exporter": "python",
   "pygments_lexer": "ipython3",
   "version": "3.7.3"
  }
 },
 "nbformat": 4,
 "nbformat_minor": 2
}
